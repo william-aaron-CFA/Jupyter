{
 "cells": [
  {
   "cell_type": "code",
   "execution_count": 2,
   "id": "1096b5c9",
   "metadata": {},
   "outputs": [],
   "source": [
    "import os\n",
    "import sys\n",
    "from cheta import fetch\n",
    "import Ska.Matplotlib\n",
    "import Chandra.Time\n",
    "from Ska.tdb import msids\n",
    "import numpy\n",
    "import matplotlib.pyplot as plt"
   ]
  },
  {
   "cell_type": "code",
   "execution_count": 3,
   "id": "e0cecd71",
   "metadata": {},
   "outputs": [],
   "source": [
    "#Functions to be used later\n",
    "#from update_compgradkodak.py\n",
    "def fill_gaps(ttime, otime, data):\n",
    "    \"\"\"\n",
    "    match the numbers of entries accroding to two time lists\n",
    "    the data are repeated between two time stamps of the data to be filled\n",
    "    input:  ttime   --- an array of time to be matched\n",
    "            otime   --- an array of time of the data\n",
    "                        len(ttime) > len(otime)\n",
    "            data    --- an array of data\n",
    "    output: adata   --- adjusted data\n",
    "    \"\"\"\n",
    "#\n",
    "#--- convert numpy array to list\n",
    "#\n",
    "    ttime = list(ttime)\n",
    "    data  = list(data)\n",
    "    otime = list(otime)\n",
    "\n",
    "    tlen  = len(ttime)\n",
    "    mlen  = len(otime)\n",
    "\n",
    "    adata = []\n",
    "    n     = 0\n",
    "    chk   = 0\n",
    "    for m in range(0, tlen):\n",
    "        if ttime[m] > otime[n]:\n",
    "            while ttime[m] > otime[n]:\n",
    "                n += 1\n",
    "                if n >= mlen:\n",
    "                    diff = tlen - len(adata)\n",
    "                    for nk in range(0, diff):\n",
    "                        adata.append(data[n-1])\n",
    "                    chk = 1\n",
    "                    break\n",
    "                else:\n",
    "                    if ttime[m] == otime[n]:\n",
    "                        adata.append(data[n])\n",
    "                        break\n",
    "        elif ttime[m] < otime[n]:\n",
    "            adata.append(data[n])\n",
    "        else:\n",
    "            adata.append(data[n])\n",
    "            n += 1\n",
    "            if n >= mlen:\n",
    "                diff = tlen - len(adata)\n",
    "                for nk in range(0, diff):\n",
    "                    adata.append(data[n-1])\n",
    "                chk = 1\n",
    "        if chk == 1:\n",
    "            break\n",
    "#\n",
    "#--- put back into numpy array\n",
    "#\n",
    "    adata = numpy.array(adata)\n",
    "\n",
    "    return adata\n",
    "\n",
    "#-------------------------------------------------------------------------------------------\n",
    "#-- take_sum: take average of the given data                                              --\n",
    "#-------------------------------------------------------------------------------------------\n",
    "\n",
    "def take_sum(olist, data, pos, achk=0):\n",
    "    \"\"\"\n",
    "    take average of the given data\n",
    "    input:  olist   --- a list of data ids\n",
    "            data    --- a list of data\n",
    "            pos     --- the position of the data to be used in data[*]\n",
    "            achk    --- if 0, just retur the sum, if >0, take an average\n",
    "    output: asum or avg --- asum (achk=0): sum of the values\n",
    "                            avg  (achk>0): averaged of the values\n",
    "    \"\"\"\n",
    "    asum = 0.0\n",
    "    tot  = 0.0\n",
    "    for k in olist:\n",
    "        try:\n",
    "            val = data[k][pos]\n",
    "            if val > 0:\n",
    "                asum += data[k][pos]\n",
    "                tot  += 1.0\n",
    "        except:\n",
    "            pass\n",
    "\n",
    "    if achk == 0:\n",
    "        return asum\n",
    "\n",
    "    else:\n",
    "        try:\n",
    "            avg = asum / tot\n",
    "        except:\n",
    "            avg = 'na'\n",
    "\n",
    "        return avg\n",
    "\n",
    "#-------------------------------------------------------------------------------------------\n",
    "#-- compute_hrmaavg: compute hrma temp average                                            --\n",
    "#-------------------------------------------------------------------------------------------\n",
    "\n",
    "def compute_hrmaavg(ohrthr, pos):\n",
    "    \"\"\"\n",
    "    compute hrma temp average\n",
    "    input:  ohrthr  --- a list of ohrthr data lists\n",
    "            pos     --- the position of the data in the ohrthr[*]\n",
    "    output: hrmaavg --- hrma temp average\n",
    "    \"\"\"\n",
    "    olist    = list(range(2,14)) + list(range(21,31)) + [33, 36, 37, 42] \n",
    "    olist    = olist + list(range(44,48)) + list(range(49,54)) + [55, 56]\n",
    "    hrmaavg  = take_sum(olist, ohrthr, pos, achk=1)\n",
    "\n",
    "    return hrmaavg\n",
    "    "
   ]
  },
  {
   "cell_type": "markdown",
   "id": "9632e80a",
   "metadata": {},
   "source": [
    "https://github.com/sot/cheta/pull/261/files#L462"
   ]
  },
  {
   "cell_type": "markdown",
   "id": "d1e77843",
   "metadata": {},
   "source": [
    "According to the wide conversion PR in cheta in Line 462\n",
    "Transition at \"2024:102:11:49:35\" for a set of the OHRTHR heaters then\n",
    "Transition at \"2024:102:11:52:19\" for another set of the OHRTHR heaters plus the 4OAVHRMT msid\n",
    "Which is the OBC computed average. "
   ]
  },
  {
   "cell_type": "code",
   "execution_count": 4,
   "id": "07439213",
   "metadata": {},
   "outputs": [],
   "source": [
    "start = \"2024:102:11:40:35\"\n",
    "stop = \"2024:102:11:59:19\""
   ]
  },
  {
   "cell_type": "code",
   "execution_count": 5,
   "id": "7caf0047",
   "metadata": {},
   "outputs": [],
   "source": [
    "#From the Git pull\n",
    "d = \"44 02 21 45 03 22 46 23 04 47 49 24 05 06 25 50 51 07 26 27 29 30\".split()\n",
    "e =  \"08 09 10 11 12 13 14 18 20 31 33 34 35 36 37 41 42 43 52 53 54 55 56 57 58 62\".split()\n",
    "d.sort()\n",
    "e.sort()\n",
    "d = [int(i) for i in d]\n",
    "e = [int(i) for i in e]"
   ]
  },
  {
   "cell_type": "code",
   "execution_count": 6,
   "id": "cbd110fc",
   "metadata": {},
   "outputs": [],
   "source": [
    "#Selection of OHRTHR heaters used but OBC (sourced by Christian Anderson)\n",
    "OBC_sel = list(range(2,13+1)) + list(range(21,27+1)) + [29,30,33,36,37,42]\n",
    "OBC_sel += list(range(44,47+1)) + list(range(49,53+1)) + [55,56]"
   ]
  },
  {
   "cell_type": "markdown",
   "id": "803db19a",
   "metadata": {},
   "source": [
    "First we'll discuss the difference in transitioning the , due to the split in which the OHRTHR values are transitioned in cheta, only a portion of the MSID's listed as used by the OBC were in place at that time."
   ]
  },
  {
   "cell_type": "code",
   "execution_count": 7,
   "id": "0bf0fa46",
   "metadata": {},
   "outputs": [
    {
     "name": "stdout",
     "output_type": "stream",
     "text": [
      "Full OBC: [2, 3, 4, 5, 6, 7, 8, 9, 10, 11, 12, 13, 21, 22, 23, 24, 25, 26, 27, 29, 30, 33, 36, 37, 42, 44, 45, 46, 47, 49, 50, 51, 52, 53, 55, 56]\n",
      "Portion Unaltered during transition: {33, 36, 37, 8, 9, 10, 11, 12, 13, 42, 52, 53, 55, 56}\n",
      "Portion unaltered by second stage: set()\n"
     ]
    }
   ],
   "source": [
    "print(f\"Full OBC: {OBC_sel}\")\n",
    "print(f\"Portion Unaltered during transition: {set(OBC_sel).difference(set(d))}\")\n",
    "print(f\"Portion unaltered by second stage: {set(OBC_sel).difference(set(d + e))}\")"
   ]
  },
  {
   "cell_type": "markdown",
   "id": "920fbe7c",
   "metadata": {},
   "source": [
    "Based on the data fetched by cheta for this time period, the OBC computed average appears to reflect this mode of transition as well. However, another factor of this transition from Narrow to Wide is that the IPCL acorn calibration changed as well. Previously, a byte number for any of the narrow OHRTHR heaters would be translated from a (0-255) count range to a analog temperature with a polynomial calibration.\n",
    "https://docs.google.com/document/d/1CHBAz7BM8b_16G7t4KieP6XsxhZfBgy_PVs_u1HmX_0/edit?usp=sharing\n",
    "However, the wide OHRTHR heaters translate the byte to an analog temperature with a point-pair calibration, which results in the acorn specific values being slightly different when fetched."
   ]
  },
  {
   "cell_type": "markdown",
   "id": "0ec96cef",
   "metadata": {},
   "source": [
    "As such, reflecting each stage of how the data numbers are processed into different temperature values will require analysis of the original byte numbers, knowledge of the exact OBC transitition times ( assumed to be the same as viewed in the Cheta PR).\n",
    "Suffice to say, the approach used by Cheta is to map the new wide values of the MSID's to the old narrow values for backwards compatability, and they scaled well during this transition time which means it was not the cause of our discontinuity."
   ]
  },
  {
   "cell_type": "markdown",
   "id": "b8aa2bd3",
   "metadata": {},
   "source": [
    "# Cheta Values During Transition"
   ]
  },
  {
   "cell_type": "code",
   "execution_count": 8,
   "id": "9637c72c",
   "metadata": {},
   "outputs": [
    {
     "name": "stdout",
     "output_type": "stream",
     "text": [
      "START: 2024:102:11:40:35\n",
      "STOP: 2024:102:11:59:19\n"
     ]
    }
   ],
   "source": [
    "print(f\"START: {start}\")\n",
    "print(f\"STOP: {stop}\")"
   ]
  },
  {
   "cell_type": "code",
   "execution_count": 9,
   "id": "bb35eb99",
   "metadata": {},
   "outputs": [
    {
     "name": "stdout",
     "output_type": "stream",
     "text": [
      "4OAVHRMT: [296.28836 296.27658 296.28836 296.28836 296.27658 296.27658 296.28836\n",
      " 296.28836 296.27658 296.27658 296.27658 296.27658 296.28836 296.28836\n",
      " 296.27658 296.27658 295.32526 295.32526 295.32526 295.32526 295.32526\n",
      " 296.24332 296.24332 296.24332 296.1833  296.24332 296.24332 296.24332\n",
      " 296.24332 296.24332 296.24332 296.24332 296.24332 296.24332]\n"
     ]
    },
    {
     "data": {
      "image/png": "[encoded data removed]",
      "text/plain": [
       "<Figure size 640x480 with 1 Axes>"
      ]
     },
     "metadata": {},
     "output_type": "display_data"
    }
   ],
   "source": [
    "pre_computed_narrow   = fetch.MSID(\"4OAVHRMT\", start, stop)\n",
    "print(f\"4OAVHRMT: {pre_computed_narrow.vals}\")\n",
    "pre_computed_narrow.plot()"
   ]
  },
  {
   "cell_type": "code",
   "execution_count": 10,
   "id": "0ea383be",
   "metadata": {},
   "outputs": [
    {
     "name": "stdout",
     "output_type": "stream",
     "text": [
      "4OAVHRMT_WIDE: [305.35764 305.2872  305.35764 305.35764 305.2872  305.2872  305.35764\n",
      " 305.35764 305.2872  305.2872  305.2872  305.2872  305.35764 305.35764\n",
      " 305.2872  305.2872  299.78165 299.78165 299.78165 299.78165 299.78165\n",
      " 296.24332 296.24332 296.24332 296.1833  296.24332 296.24332 296.24332\n",
      " 296.24332 296.24332 296.24332 296.24332 296.24332 296.24332]\n"
     ]
    },
    {
     "data": {
      "image/png": "[encoded data removed]",
      "text/plain": [
       "<Figure size 640x480 with 1 Axes>"
      ]
     },
     "metadata": {},
     "output_type": "display_data"
    }
   ],
   "source": [
    "pre_computed_wide   = fetch.MSID(\"4OAVHRMT_WIDE\", start, stop)\n",
    "print(f\"4OAVHRMT_WIDE: {pre_computed_wide.vals}\")\n",
    "pre_computed_wide.plot()"
   ]
  },
  {
   "cell_type": "markdown",
   "id": "1743ca91",
   "metadata": {},
   "source": [
    "Notice that by the end, both the wide and narrow verison map to the same values."
   ]
  },
  {
   "cell_type": "code",
   "execution_count": 11,
   "id": "a2030768",
   "metadata": {},
   "outputs": [
    {
     "name": "stdout",
     "output_type": "stream",
     "text": [
      "OHRTHRO3: [295.33383 295.33383 295.3455  295.3455  295.3455  295.3455  295.33383\n",
      " 295.3455  295.3455  295.3455  295.33383 295.33383 295.33383 295.3455\n",
      " 295.3455  295.3455  295.28268 295.28268 295.28268 295.28268 295.28268\n",
      " 295.28268 295.28268 295.28268 295.28268 295.28268 295.28268 295.28268\n",
      " 295.28268 295.28268 295.28268 295.28268 295.28268 295.28268]\n"
     ]
    },
    {
     "data": {
      "image/png": "[encoded data removed]",
      "text/plain": [
       "<Figure size 640x480 with 1 Axes>"
      ]
     },
     "metadata": {},
     "output_type": "display_data"
    }
   ],
   "source": [
    "ohrthr03_narrow   = fetch.MSID(\"OHRTHR03\", start, stop)\n",
    "print(f\"OHRTHRO3: {ohrthr03_narrow.vals}\")\n",
    "ohrthr03_narrow.plot()"
   ]
  },
  {
   "cell_type": "code",
   "execution_count": 12,
   "id": "8cce6f48",
   "metadata": {},
   "outputs": [
    {
     "name": "stdout",
     "output_type": "stream",
     "text": [
      "OHRTHRO3_WIDE: [299.9114  299.9114  299.97626 299.97626 299.97626 299.97626 299.9114\n",
      " 299.97626 299.97626 299.97626 299.9114  299.9114  299.9114  299.97626\n",
      " 299.97626 299.97626 295.28268 295.28268 295.28268 295.28268 295.28268\n",
      " 295.28268 295.28268 295.28268 295.28268 295.28268 295.28268 295.28268\n",
      " 295.28268 295.28268 295.28268 295.28268 295.28268 295.28268]\n"
     ]
    },
    {
     "data": {
      "image/png": "[encoded data removed]",
      "text/plain": [
       "<Figure size 640x480 with 1 Axes>"
      ]
     },
     "metadata": {},
     "output_type": "display_data"
    }
   ],
   "source": [
    "ohrthr03_wide   = fetch.MSID(\"OHRTHR03_WIDE\", start, stop)\n",
    "print(f\"OHRTHRO3_WIDE: {ohrthr03_wide.vals}\")\n",
    "ohrthr03_wide.plot()"
   ]
  },
  {
   "cell_type": "markdown",
   "id": "6297261a",
   "metadata": {},
   "source": [
    "# Difference in MTA computed HRMAAVG (cause of discontinuity)"
   ]
  },
  {
   "cell_type": "markdown",
   "id": "a3f1e830",
   "metadata": {},
   "source": [
    "The selection used by OBC in calculating the 4OAVHRMT average is very similar to the selection of OHRTHR heaters used by MTA for HRMAAVG, aside from one key difference."
   ]
  },
  {
   "cell_type": "code",
   "execution_count": 13,
   "id": "8df2667f",
   "metadata": {},
   "outputs": [],
   "source": [
    "#MTA slection for the HRMAAVG calcualted value (sourced from MTA_limit_trends/Deposit/update_compgradkodak.py)\n",
    "MTA_sel = list(range(2,14)) + list(range(21,31)) + [33, 36, 37, 42] \n",
    "MTA_sel += list(range(44,48)) + list(range(49,54)) + [55, 56]"
   ]
  },
  {
   "cell_type": "code",
   "execution_count": 14,
   "id": "8ac11fb1",
   "metadata": {},
   "outputs": [
    {
     "data": {
      "text/plain": [
       "{28}"
      ]
     },
     "execution_count": 14,
     "metadata": {},
     "output_type": "execute_result"
    }
   ],
   "source": [
    "set(MTA_sel).difference(set(OBC_sel))"
   ]
  },
  {
   "cell_type": "markdown",
   "id": "6218b5d6",
   "metadata": {},
   "source": [
    "Therefore on the MTA side, we include the OHRTHR28 incorrectly when calculating the average"
   ]
  },
  {
   "cell_type": "code",
   "execution_count": 15,
   "id": "b5f5ed5b",
   "metadata": {},
   "outputs": [
    {
     "data": {
      "text/plain": [
       "[<MsidView msid=\"OHRTHR28\" technical_name=\"INVALID: TELESCOPE THERMISTOR DATA: HRMA CH 27\">]"
      ]
     },
     "execution_count": 15,
     "metadata": {},
     "output_type": "execute_result"
    }
   ],
   "source": [
    "msids.find(\"OHRTHR28\")"
   ]
  },
  {
   "cell_type": "markdown",
   "id": "3468370e",
   "metadata": {},
   "source": [
    "https://cxc.cfa.harvard.edu/mta/MSID_Trends/Hrmaheaters/Ohrthr28/ohrthr28_mid_static_short_plot.html"
   ]
  },
  {
   "cell_type": "markdown",
   "id": "33a42c0e",
   "metadata": {},
   "source": [
    "This MSID is currently listed as invalid, not to mention that around the time of the WIDE conversion, it carried a significant discontinuity from values around 750 K dropping down to 550 under the new acorn calibration (already a significant contributor compared to other OHRTHR heaters typically around 300 K). I'm unsure when this MSID became invalid but it appears as though the full range of data is around 750K so it's possible it was always invalid."
   ]
  },
  {
   "cell_type": "markdown",
   "id": "18250f14",
   "metadata": {},
   "source": [
    "It's also worth noting that our selection process for OHRTHR data involves putting the fetch result data\n",
    "into a list of lists like so."
   ]
  },
  {
   "cell_type": "code",
   "execution_count": 16,
   "id": "a7114f50",
   "metadata": {},
   "outputs": [],
   "source": [
    "#We depend on the time scale used in fetching 4rt data first\n",
    "empty  = [0]\n",
    "#\n",
    "#--- extract  4rt*** data\n",
    "#\n",
    "rt7  = []\n",
    "for k  in range(0, 12):\n",
    "    if k < 10:\n",
    "        msid = '4rt70' + str(k) + 't'\n",
    "    else:\n",
    "        msid = '4rt7'  + str(k) + 't'\n",
    "\n",
    "    try:\n",
    "        out   = fetch.MSID(msid, start, stop)\n",
    "        data  = out.vals\n",
    "        ttime = out.times\n",
    "        tlist = list(ttime)\n",
    "        rt7.append(data)\n",
    "    except:\n",
    "        rt7.append(empty)\n",
    "#\n",
    "#--- extract 4rt575t separately\n",
    "#\n",
    "out    = fetch.MSID('4rt575t', start, stop)\n",
    "rt575  = out.vals\n",
    "#\n",
    "#--- create empty array and initialize ohrthr and oobthr lists\n",
    "#\n",
    "tlen   = len(ttime)\n",
    "empty  = numpy.zeros(tlen)"
   ]
  },
  {
   "cell_type": "code",
   "execution_count": 17,
   "id": "4bf6d671",
   "metadata": {},
   "outputs": [
    {
     "name": "stdout",
     "output_type": "stream",
     "text": [
      "2024:102:11:41:06.091 - 310.34075927734375\n",
      "2024:102:11:41:38.891 - 310.34075927734375\n",
      "2024:102:11:42:11.691 - 310.34075927734375\n",
      "2024:102:11:42:44.491 - 310.34075927734375\n",
      "2024:102:11:43:17.291 - 310.34075927734375\n",
      "2024:102:11:43:50.091 - 310.34075927734375\n",
      "2024:102:11:44:22.891 - 310.34075927734375\n",
      "2024:102:11:44:55.691 - 310.34075927734375\n",
      "2024:102:11:45:28.491 - 310.34075927734375\n",
      "2024:102:11:46:01.291 - 310.34075927734375\n",
      "2024:102:11:46:34.091 - 310.34075927734375\n",
      "2024:102:11:47:06.891 - 310.34075927734375\n",
      "2024:102:11:47:39.691 - 310.34075927734375\n",
      "2024:102:11:48:12.491 - 310.34075927734375\n",
      "2024:102:11:48:45.291 - 310.34075927734375\n",
      "2024:102:11:49:18.091 - 310.34075927734375\n",
      "2024:102:11:49:50.891 - 310.34075927734375\n",
      "2024:102:11:50:23.691 - 310.34075927734375\n",
      "2024:102:11:50:56.491 - 310.34075927734375\n",
      "2024:102:11:51:29.291 - 310.34075927734375\n",
      "2024:102:11:52:02.091 - 310.34075927734375\n",
      "2024:102:11:52:34.891 - 310.34075927734375\n",
      "2024:102:11:53:07.691 - 310.34075927734375\n",
      "2024:102:11:53:40.491 - 310.34075927734375\n",
      "2024:102:11:54:13.291 - 310.34075927734375\n",
      "2024:102:11:54:46.091 - 310.34075927734375\n",
      "2024:102:11:55:18.891 - 310.34075927734375\n",
      "2024:102:11:55:51.691 - 310.34075927734375\n",
      "2024:102:11:56:24.491 - 310.34075927734375\n",
      "2024:102:11:56:57.291 - 310.34075927734375\n",
      "2024:102:11:57:30.091 - 310.34075927734375\n",
      "2024:102:11:58:02.891 - 310.34075927734375\n",
      "2024:102:11:58:35.691 - 310.34075927734375\n",
      "2024:102:11:59:08.491 - 310.34075927734375\n"
     ]
    }
   ],
   "source": [
    "for i in range(len(ttime)):\n",
    "    print(f\"{Chandra.Time.DateTime(ttime[i]).date} - {rt575[i]}\")"
   ]
  },
  {
   "cell_type": "markdown",
   "id": "a036092c",
   "metadata": {},
   "source": [
    "Then the ohrthr list of lists is initialized based on the results of that fetch"
   ]
  },
  {
   "cell_type": "code",
   "execution_count": 18,
   "id": "f0888617",
   "metadata": {},
   "outputs": [
    {
     "name": "stdout",
     "output_type": "stream",
     "text": [
      "[array([0., 0., 0., 0., 0., 0., 0., 0., 0., 0., 0., 0., 0., 0., 0., 0., 0.,\n",
      "       0., 0., 0., 0., 0., 0., 0., 0., 0., 0., 0., 0., 0., 0., 0., 0., 0.])]\n",
      "34\n",
      "ohrthr01 - [512. 512. 512. 512. 512. 512. 512. 512. 512. 512. 512. 512. 512. 512.\n",
      " 512. 512. 512. 512. 512. 512. 512. 512. 512. 512. 512. 512. 512. 512.\n",
      " 512. 512. 512. 512. 512. 512.]\n",
      "34\n",
      "ohrthr02 - [295.2241  295.37534 295.3171  295.28223 295.25894 295.2357  295.39865\n",
      " 295.32877 295.29385 295.27057 295.2473  295.2241  295.37534 295.3171\n",
      " 295.28223 295.25894 295.10254 295.40274 295.28268 295.3427  295.28268\n",
      " 295.3427  295.28268 295.3427  295.28268 295.3427  295.28268 295.22263\n",
      " 295.28268 295.28268 295.3427  295.28268 295.3427  295.28268]\n",
      "34\n",
      "ohrthr03 - [295.33383 295.33383 295.3455  295.3455  295.3455  295.3455  295.33383\n",
      " 295.3455  295.3455  295.3455  295.33383 295.33383 295.33383 295.3455\n",
      " 295.3455  295.3455  295.28268 295.28268 295.28268 295.28268 295.28268\n",
      " 295.28268 295.28268 295.28268 295.28268 295.28268 295.28268 295.28268\n",
      " 295.28268 295.28268 295.28268 295.28268 295.28268 295.28268]\n",
      "34\n",
      "ohrthr04 - [295.4006  295.29587 295.1681  295.34238 295.34238 295.2145  295.3075\n",
      " 295.38895 295.2726  295.1913  295.38895 295.31912 295.2029  295.36566\n",
      " 295.37732 295.23776 295.10254 295.3427  295.40274 295.22263 295.3427\n",
      " 295.3427  295.22263 295.3427  295.28268 295.22263 295.3427  295.22263\n",
      " 295.3427  295.3427  295.22263 295.40274 295.3427  295.22263]\n",
      "34\n",
      "ohrthr05 - [298.14917 298.14917 298.14917 298.14917 298.14917 298.16138 298.16138\n",
      " 298.16138 298.16138 298.16138 298.16138 298.16138 298.16138 298.16138\n",
      " 298.16138 298.16138 298.10458 298.10458 298.10458 298.10458 298.10458\n",
      " 298.10458 298.10458 298.10458 298.10458 298.10458 298.10458 298.10458\n",
      " 298.10458 298.10458 298.10458 298.10458 298.10458 298.10458]\n",
      "34\n",
      "ohrthr06 - [296.3297  296.3297  296.3297  296.3297  296.3297  296.3297  296.3297\n",
      " 296.3297  296.3297  296.3297  296.3297  296.3297  296.3297  296.3297\n",
      " 296.3297  296.3297  296.24332 296.24332 296.24332 296.24332 296.24332\n",
      " 296.24332 296.24332 296.24332 296.24332 296.24332 296.24332 296.24332\n",
      " 296.24332 296.24332 296.24332 296.24332 296.24332 296.24332]\n",
      "34\n",
      "ohrthr07 - [296.44183 296.44183 296.44183 296.44183 296.44183 296.44183 296.44183\n",
      " 296.44183 296.44183 296.44183 296.44183 296.44183 296.44183 296.44183\n",
      " 296.44183 296.44183 296.3634  296.3634  296.3634  296.3634  296.3634\n",
      " 296.3634  296.3634  296.3634  296.3634  296.3634  296.3634  296.3634\n",
      " 296.3634  296.3634  296.3634  296.3634  296.3634  296.3634 ]\n",
      "34\n",
      "ohrthr08 - [296.19043 296.19043 296.19043 296.19043 296.19043 296.19043 296.19043\n",
      " 296.19043 296.19043 296.19043 296.19043 296.19043 296.19043 296.19043\n",
      " 296.19043 296.19043 296.19043 296.19043 296.19043 296.19043 296.19043\n",
      " 296.1833  296.1833  296.1833  296.1833  296.1833  296.1833  296.1833\n",
      " 296.1833  296.1833  296.1833  296.1833  296.1833  296.1833 ]\n",
      "34\n",
      "ohrthr09 - [296.3988  296.3988  296.3988  296.3988  296.3988  296.3988  296.3988\n",
      " 296.3988  296.3988  296.3988  296.3988  296.3988  296.3988  296.3988\n",
      " 296.3988  296.3988  296.3988  296.3988  296.3988  296.3988  296.3988\n",
      " 296.30338 296.30338 296.30338 296.30338 296.30338 296.30338 296.30338\n",
      " 296.30338 296.30338 296.30338 296.30338 296.30338 296.30338]\n",
      "34\n",
      "ohrthr10 - [296.10706 296.10706 296.10706 296.10706 296.10706 296.10706 296.10706\n",
      " 296.10706 296.10706 296.10706 296.10706 296.10706 296.10706 296.10706\n",
      " 296.10706 296.10706 296.10706 296.10706 296.10706 296.10706 296.10706\n",
      " 296.0632  296.0632  296.0632  296.0632  296.0632  296.0632  296.0632\n",
      " 296.0632  296.0632  296.0632  296.0632  296.0632  296.0632 ]\n",
      "34\n",
      "ohrthr11 - [296.12442 296.12442 296.12442 296.12442 296.12442 296.12442 296.12442\n",
      " 296.12442 296.12442 296.12442 296.12442 296.12442 296.12442 296.12442\n",
      " 296.12442 296.12442 296.12442 296.12442 296.12442 296.12442 296.12442\n",
      " 296.0632  296.0632  296.0632  296.0632  296.0632  296.0632  296.0632\n",
      " 296.0632  296.0632  296.0632  296.0632  296.0632  296.0632 ]\n",
      "34\n",
      "ohrthr12 - [296.465  296.465  296.465  296.465  296.465  296.465  296.465  296.465\n",
      " 296.465  296.465  296.465  296.465  296.465  296.465  296.465  296.465\n",
      " 296.465  296.465  296.465  296.465  296.465  296.4835 296.4835 296.4835\n",
      " 296.4835 296.4835 296.4835 296.4835 296.4835 296.4835 296.4835 296.4835\n",
      " 296.4835 296.4835]\n",
      "34\n",
      "ohrthr13 - [296.54562 296.54562 296.54562 296.54562 296.54562 296.54562 296.54562\n",
      " 296.54562 296.54562 296.54562 296.54562 296.54562 296.54562 296.5575\n",
      " 296.54562 296.54562 296.54562 296.5575  296.5575  296.5575  296.5575\n",
      " 296.4835  296.4835  296.4835  296.4835  296.4835  296.4835  296.4835\n",
      " 296.4835  296.4835  296.4835  296.4835  296.4835  296.4835 ]\n",
      "34\n",
      "ohrthr14 - [297.37338 297.37338 297.37338 297.37338 297.37338 297.37338 297.37338\n",
      " 297.37338 297.37338 297.37338 297.37338 297.37338 297.37338 297.37338\n",
      " 297.37338 297.37338 297.37338 297.37338 297.37338 297.37338 297.37338\n",
      " 297.32407 297.32407 297.32407 297.32407 297.32407 297.32407 297.32407\n",
      " 297.32407 297.32407 297.32407 297.32407 297.32407 297.32407]\n",
      "34\n",
      "ohrthr15 - [296.24332 296.24332 296.24332 296.24332 296.24332 296.24332 296.24332\n",
      " 296.24332 296.24332 296.24332 296.24332 296.24332 296.24332 296.24332\n",
      " 296.24332 296.24332 296.24332 296.24332 296.24332 296.24332 296.24332\n",
      " 296.24332 296.24332 296.24332 296.24332 296.24332 296.24332 296.24332\n",
      " 296.24332 296.24332 296.24332 296.24332 296.24332 296.24332]\n",
      "34\n",
      "ohrthr16 - [249. 249. 249. 249. 249. 249. 249. 249. 249. 249. 249. 249. 249. 249.\n",
      " 249. 249. 249. 249. 249. 249. 249. 249. 249. 249. 249. 249. 249. 249.\n",
      " 249. 249. 249. 249. 249. 249.]\n",
      "34\n",
      "ohrthr17 - [296.3634 296.3634 296.3634 296.3634 296.3634 296.3634 296.3634 296.3634\n",
      " 296.3634 296.3634 296.3634 296.3634 296.3634 296.3634 296.3634 296.3634\n",
      " 296.3634 296.3634 296.3634 296.3634 296.3634 296.3634 296.3634 296.3634\n",
      " 296.3634 296.3634 296.3634 296.3634 296.3634 296.3634 296.3634 296.3634\n",
      " 296.3634 296.3634]\n",
      "34\n",
      "ohrthr18 - [295.60434 295.60434 295.60434 295.60434 295.60434 295.60434 295.616\n",
      " 295.60434 295.60434 295.616   295.616   295.616   295.616   295.616\n",
      " 295.616   295.616   295.616   295.616   295.616   295.616   295.616\n",
      " 295.52283 295.52283 295.52283 295.52283 295.52283 295.52283 295.52283\n",
      " 295.52283 295.52283 295.52283 295.52283 295.52283 295.52283]\n",
      "34\n",
      "ohrthr19 - [298.10458 298.10458 298.10458 298.10458 298.10458 298.10458 298.10458\n",
      " 298.10458 298.10458 298.10458 298.10458 298.10458 298.10458 298.10458\n",
      " 298.10458 298.10458 298.10458 298.10458 298.10458 298.10458 298.10458\n",
      " 298.10458 298.10458 298.10458 298.10458 298.10458 298.10458 298.10458\n",
      " 298.10458 298.10458 298.10458 298.1646  298.1646  298.10458]\n",
      "34\n",
      "ohrthr20 - [296.3375  296.3375  296.3375  296.3375  296.3375  296.3375  296.3375\n",
      " 296.3375  296.3375  296.3375  296.3375  296.3375  296.3375  296.3375\n",
      " 296.3375  296.3375  296.3375  296.3375  296.3375  296.3375  296.3375\n",
      " 296.24332 296.24332 296.24332 296.24332 296.24332 296.24332 296.24332\n",
      " 296.24332 296.24332 296.24332 296.24332 296.24332 296.24332]\n",
      "34\n",
      "ohrthr21 - [295.19974 295.19974 295.3857  295.30426 295.28104 295.2694  295.25778\n",
      " 295.23456 295.22296 295.22296 295.21133 295.19974 295.28104 295.3275\n",
      " 295.29263 295.28104 295.22263 295.28268 295.22263 295.22263 295.1626\n",
      " 295.28268 295.22263 295.22263 295.28268 295.22263 295.22263 295.1626\n",
      " 295.28268 295.22263 295.22263 295.28268 295.22263 295.22263]\n",
      "34\n",
      "ohrthr22 - [295.37686 295.37686 295.37686 295.37686 295.37686 295.37686 295.37686\n",
      " 295.37686 295.37686 295.37686 295.37686 295.37686 295.37686 295.37686\n",
      " 295.37686 295.37686 295.28268 295.28268 295.28268 295.28268 295.28268\n",
      " 295.28268 295.28268 295.28268 295.28268 295.28268 295.28268 295.28268\n",
      " 295.28268 295.28268 295.28268 295.28268 295.3427  295.3427 ]\n",
      "34\n",
      "ohrthr23 - [295.2652  295.33496 295.14908 295.24194 295.38153 295.21872 295.13748\n",
      " 295.32333 295.30008 295.10272 295.20712 295.35825 295.1839  295.1955\n",
      " 295.33496 295.1723  295.10254 295.28268 295.28268 295.10254 295.28268\n",
      " 295.22263 295.1626  295.3427  295.22263 295.1626  295.28268 295.22263\n",
      " 295.10254 295.28268 295.1626  295.22263 295.28268 295.1626 ]\n",
      "34\n",
      "ohrthr24 - [298.1801  298.1801  298.1801  298.1801  298.1801  298.1801  298.1801\n",
      " 298.1801  298.1801  298.1801  298.1801  298.1801  298.1801  298.1801\n",
      " 298.1801  298.1801  298.10458 298.10458 298.10458 298.10458 298.10458\n",
      " 298.10458 298.10458 298.10458 298.10458 298.1646  298.1646  298.1646\n",
      " 298.1646  298.1646  298.1646  298.1646  298.1646  298.1646 ]\n",
      "34\n",
      "ohrthr25 - [296.36465 296.36465 296.36465 296.36465 296.36465 296.36465 296.36465\n",
      " 296.36465 296.36465 296.36465 296.37653 296.36465 296.36465 296.37653\n",
      " 296.36465 296.36465 296.24332 296.24332 296.30338 296.30338 296.30338\n",
      " 296.30338 296.30338 296.30338 296.30338 296.30338 296.24332 296.30338\n",
      " 296.30338 296.30338 296.30338 296.30338 296.30338 296.30338]\n",
      "34\n",
      "ohrthr26 - [296.36862 296.36862 296.36862 296.36862 296.36862 296.36862 296.36862\n",
      " 296.36862 296.36862 296.36862 296.36862 296.36862 296.36862 296.36862\n",
      " 296.36862 296.36862 296.30338 296.30338 296.30338 296.30338 296.30338\n",
      " 296.30338 296.30338 296.30338 296.30338 296.30338 296.30338 296.30338\n",
      " 296.30338 296.30338 296.30338 296.30338 296.30338 296.30338]\n",
      "34\n",
      "ohrthr27 - [297.18567 297.18567 297.18567 297.1977  297.1977  297.1977  297.1977\n",
      " 297.1977  297.1977  297.1977  297.1977  297.1977  297.20972 297.20972\n",
      " 297.20972 297.20972 297.14392 297.14392 297.14392 297.14392 297.14392\n",
      " 297.14392 297.14392 297.14392 297.14392 297.14392 297.14392 297.14392\n",
      " 297.14392 297.14392 297.14392 297.14392 297.14392 297.14392]\n",
      "34\n",
      "ohrthr28 - [760 760 760 761 761 761 761 761 761 761 761 761 762 762 762 762 562 562\n",
      " 562 562 562 562 562 562 562 562 562 562 562 562 562 562 562 562]\n",
      "34\n",
      "ohrthr29 - [296.9658  296.9658  296.9658  296.9658  296.9658  296.9658  296.9658\n",
      " 296.9658  296.9658  296.9658  296.9658  296.9658  296.9658  296.9658\n",
      " 296.9658  296.9658  296.90378 296.90378 296.90378 296.90378 296.90378\n",
      " 296.90378 296.90378 296.90378 296.90378 296.90378 296.90378 296.90378\n",
      " 296.90378 296.90378 296.90378 296.90378 296.90378 296.90378]\n"
     ]
    },
    {
     "name": "stdout",
     "output_type": "stream",
     "text": [
      "34\n",
      "ohrthr30 - [296.96774 296.96774 296.96774 296.96774 296.96774 296.96774 296.96774\n",
      " 296.96774 296.96774 296.96774 296.96774 296.96774 296.97974 296.97974\n",
      " 296.97974 296.97974 296.90378 296.90378 296.90378 296.90378 296.90378\n",
      " 296.90378 296.90378 296.90378 296.90378 296.90378 296.90378 296.90378\n",
      " 296.90378 296.90378 296.90378 296.90378 296.90378 296.90378]\n",
      "34\n",
      "ohrthr31 - [296.28674 296.28674 296.28674 296.28674 296.28674 296.28674 296.28674\n",
      " 296.28674 296.28674 296.28674 296.28674 296.28674 296.28674 296.28674\n",
      " 296.28674 296.28674 296.28674 296.28674 296.28674 296.28674 296.28674\n",
      " 296.24332 296.24332 296.24332 296.24332 296.24332 296.24332 296.24332\n",
      " 296.24332 296.30338 296.30338 296.30338 296.30338 296.24332]\n",
      "34\n",
      "ohrthr32 - [59. 59. 59. 58. 59. 58. 59. 59. 59. 59. 59. 59. 59. 59. 59. 59. 59. 59.\n",
      " 59. 59. 59. 59. 59. 59. 58. 58. 59. 59. 59. 59. 59. 59. 59. 59.]\n",
      "34\n",
      "ohrthr33 - [296.4187 296.4187 296.4187 296.4187 296.4187 296.4187 296.4187 296.4187\n",
      " 296.4187 296.4187 296.4187 296.4187 296.4187 296.4187 296.4187 296.4187\n",
      " 296.4187 296.4187 296.4187 296.4187 296.4187 296.3634 296.3634 296.3634\n",
      " 296.3634 296.3634 296.3634 296.3634 296.3634 296.3634 296.3634 296.3634\n",
      " 296.3634 296.3634]\n",
      "34\n",
      "ohrthr34 - [296.03168 296.03168 296.03168 296.03168 296.03168 296.03168 296.03168\n",
      " 296.03168 296.03168 296.03168 296.03168 296.03168 296.03168 296.03168\n",
      " 296.03168 296.03168 296.03168 296.03168 296.03168 296.03168 296.03168\n",
      " 296.00317 296.00317 296.00317 296.00317 296.00317 296.00317 296.00317\n",
      " 296.00317 296.00317 296.00317 296.00317 296.00317 296.00317]\n",
      "34\n",
      "ohrthr35 - [295.9985  295.9985  295.9985  295.9985  295.9985  295.9985  295.9985\n",
      " 295.9985  295.9985  295.9985  295.9985  295.9985  295.9985  295.9985\n",
      " 295.9985  295.9985  295.9985  295.9985  295.9985  295.9985  295.9985\n",
      " 296.00317 296.00317 296.00317 296.00317 296.00317 296.00317 296.00317\n",
      " 296.00317 296.00317 296.00317 296.00317 296.00317 296.00317]\n",
      "34\n",
      "ohrthr36 - [296.57074 296.57074 296.57074 296.57074 296.57074 296.57074 296.57074\n",
      " 296.57074 296.57074 296.57074 296.57074 296.57074 296.57074 296.57074\n",
      " 296.57074 296.57074 296.57074 296.57074 296.57074 296.57074 296.57074\n",
      " 296.54352 296.54352 296.54352 296.54352 296.54352 296.54352 296.54352\n",
      " 296.54352 296.54352 296.54352 296.54352 296.54352 296.54352]\n",
      "34\n",
      "ohrthr37 - [296.5564 296.5445 296.5564 296.5564 296.5564 296.5564 296.5564 296.5564\n",
      " 296.5564 296.5564 296.5564 296.5564 296.5564 296.5564 296.5564 296.5564\n",
      " 296.5564 296.5564 296.5564 296.5564 296.5564 296.4835 296.4835 296.4835\n",
      " 296.4835 296.4835 296.4835 296.4835 296.4835 296.4835 296.4835 296.4835\n",
      " 296.4835 296.4835]\n",
      "34\n",
      "ohrthr38 - [304.58273 304.58273 304.58273 304.58273 304.58273 304.58273 304.58273\n",
      " 304.58273 304.58273 304.58273 304.58273 304.58273 304.58273 304.58273\n",
      " 304.58273 304.58273 304.58273 304.58273 304.58273 304.58273 304.58273\n",
      " 304.58273 304.58273 304.58273 304.58273 304.58273 304.58273 304.58273\n",
      " 304.58273 304.58273 304.58273 304.58273 304.65317 304.58273]\n",
      "34\n",
      "ohrthr39 - [296.3634 296.3634 296.3634 296.3634 296.3634 296.3634 296.3634 296.3634\n",
      " 296.3634 296.3634 296.3634 296.3634 296.3634 296.3634 296.3634 296.3634\n",
      " 296.3634 296.3634 296.3634 296.3634 296.3634 296.3634 296.3634 296.3634\n",
      " 296.3634 296.3634 296.3634 296.3634 296.3634 296.3634 296.3634 296.3634\n",
      " 296.3634 296.3634]\n",
      "34\n",
      "ohrthr40 - [296.54352 296.54352 296.54352 296.54352 296.54352 296.54352 296.54352\n",
      " 296.54352 296.54352 296.54352 296.54352 296.54352 296.54352 296.54352\n",
      " 296.54352 296.54352 296.54352 296.54352 296.54352 296.54352 296.54352\n",
      " 296.54352 296.54352 296.54352 296.54352 296.54352 296.54352 296.54352\n",
      " 296.54352 296.54352 296.54352 296.54352 296.54352 296.54352]\n",
      "34\n",
      "ohrthr41 - [297.24503 297.25702 297.25702 297.25702 297.25702 297.25702 297.25702\n",
      " 297.25702 297.25702 297.25702 297.25702 297.25702 297.25702 297.25702\n",
      " 297.25702 297.25702 297.25702 297.25702 297.25702 297.25702 297.25702\n",
      " 297.14392 297.14392 297.14392 297.14392 297.14392 297.14392 297.14392\n",
      " 297.14392 297.14392 297.14392 297.14392 297.14392 297.14392]\n",
      "34\n",
      "ohrthr42 - [297.86145 297.86145 297.86145 297.86145 297.86145 297.86145 297.86145\n",
      " 297.86145 297.86145 297.86145 297.86145 297.86145 297.86145 297.86145\n",
      " 297.86145 297.86145 297.86145 297.86145 297.86145 297.86145 297.87357\n",
      " 297.74435 297.74435 297.74435 297.74435 297.74435 297.74435 297.74435\n",
      " 297.74435 297.74435 297.74435 297.74435 297.74435 297.74435]\n",
      "34\n",
      "ohrthr43 - [298.18848 298.18848 298.18848 298.18848 298.18848 298.18848 298.18848\n",
      " 298.18848 298.18848 298.18848 298.18848 298.18848 298.18848 298.18848\n",
      " 298.2007  298.2007  298.2007  298.2007  298.2007  298.2007  298.2007\n",
      " 298.10458 298.10458 298.10458 298.10458 298.10458 298.10458 298.10458\n",
      " 298.10458 298.10458 298.10458 298.10458 298.10458 298.1646 ]\n",
      "34\n",
      "ohrthr44 - [295.39365 295.3122  295.27734 295.2541  295.24246 295.21924 295.4053\n",
      " 295.32382 295.28894 295.26572 295.24246 295.21924 295.30057 295.33545\n",
      " 295.28894 295.26572 295.22263 295.28268 295.3427  295.28268 295.3427\n",
      " 295.28268 295.22263 295.28268 295.28268 295.3427  295.28268 295.3427\n",
      " 295.28268 295.22263 295.28268 295.28268 295.3427  295.28268]\n",
      "34\n",
      "ohrthr45 - [295.3744  295.3744  295.3744  295.3744  295.3744  295.3744  295.3744\n",
      " 295.3744  295.3744  295.3744  295.3744  295.3744  295.3744  295.3744\n",
      " 295.3744  295.3744  295.28268 295.28268 295.28268 295.28268 295.28268\n",
      " 295.28268 295.28268 295.28268 295.28268 295.28268 295.28268 295.28268\n",
      " 295.28268 295.28268 295.28268 295.28268 295.3427  295.3427 ]\n",
      "34\n",
      "ohrthr46 - [295.23267 295.23267 295.23267 295.23267 295.23267 295.23267 295.23267\n",
      " 295.23267 295.23267 295.23267 295.23267 295.23267 295.23267 295.23267\n",
      " 295.23267 295.23267 295.1626  295.22263 295.3427  295.3427  295.3427\n",
      " 295.3427  295.3427  295.28268 295.28268 295.28268 295.28268 295.28268\n",
      " 295.22263 295.3427  295.3427  295.3427  295.3427  295.3427 ]\n",
      "34\n",
      "ohrthr47 - [295.2551  295.13898 295.3481  295.35977 295.197   295.2551  295.35977\n",
      " 295.20862 295.1738  295.3947  295.32486 295.16217 295.31323 295.32486\n",
      " 295.16217 295.2202  295.3427  295.22263 295.3427  295.28268 295.28268\n",
      " 295.40274 295.28268 295.1626  295.40274 295.28268 295.1626  295.40274\n",
      " 295.3427  295.22263 295.40274 295.3427  295.22263 295.40274]\n",
      "34\n",
      "ohrthr48 - [930. 931. 931. 931. 930. 930. 930. 931. 931. 931. 930. 930. 931. 931.\n",
      " 930. 931. 931. 931. 930. 930. 931. 931. 931. 931. 931. 931. 930. 931.\n",
      " 931. 931. 931. 931. 931. 931.]\n",
      "34\n",
      "ohrthr49 - [297.9227  297.9227  297.9227  297.9227  297.9227  297.9227  297.9227\n",
      " 297.9227  297.9227  297.9227  297.9227  297.9227  297.9227  297.9227\n",
      " 297.9227  297.93488 297.8644  297.8644  297.8644  297.8644  297.8644\n",
      " 297.8644  297.8644  297.8644  297.8644  297.8644  297.92447 297.92447\n",
      " 297.92447 297.8644  297.92447 297.92447 297.92447 297.92447]\n",
      "34\n",
      "ohrthr50 - [296.51465 296.51465 296.51465 296.51465 296.51465 296.51465 296.51465\n",
      " 296.51465 296.51465 296.51465 296.51465 296.51465 296.51465 296.51465\n",
      " 296.51465 296.51465 296.4835  296.4835  296.4835  296.4835  296.4835\n",
      " 296.4835  296.4835  296.4835  296.4835  296.4835  296.4835  296.4835\n",
      " 296.4835  296.4835  296.4835  296.4835  296.4835  296.4835 ]\n",
      "34\n",
      "ohrthr51 - [296.29947 296.29947 296.29947 296.29947 296.29947 296.29947 296.29947\n",
      " 296.29947 296.29947 296.29947 296.29947 296.29947 296.29947 296.29947\n",
      " 296.29947 296.29947 296.24332 296.24332 296.24332 296.24332 296.24332\n",
      " 296.24332 296.24332 296.24332 296.24332 296.24332 296.24332 296.24332\n",
      " 296.24332 296.24332 296.24332 296.24332 296.24332 296.24332]\n",
      "34\n",
      "ohrthr52 - [296.2916 296.2916 296.2916 296.2916 296.2916 296.2916 296.2916 296.2916\n",
      " 296.2916 296.2916 296.2916 296.2916 296.2916 296.2916 296.2916 296.2916\n",
      " 296.2916 296.2916 296.2916 296.2916 296.2916 296.1833 296.1833 296.1833\n",
      " 296.1833 296.1833 296.1833 296.1833 296.1833 296.1833 296.1833 296.1833\n",
      " 296.1833 296.1833]\n",
      "34\n",
      "ohrthr53 - [296.2289  296.2289  296.2289  296.24075 296.2289  296.24075 296.24075\n",
      " 296.2289  296.24075 296.24075 296.24075 296.24075 296.24075 296.24075\n",
      " 296.24075 296.24075 296.24075 296.24075 296.24075 296.24075 296.24075\n",
      " 296.12323 296.12323 296.12323 296.12323 296.12323 296.1833  296.12323\n",
      " 296.12323 296.1833  296.12323 296.1833  296.12323 296.1833 ]\n",
      "34\n",
      "ohrthr54 - [296.25647 296.25647 296.25647 296.25647 296.25647 296.25647 296.25647\n",
      " 296.25647 296.25647 296.25647 296.25647 296.25647 296.25647 296.25647\n",
      " 296.25647 296.25647 296.25647 296.25647 296.25647 296.25647 296.25647\n",
      " 296.24332 296.24332 296.24332 296.24332 296.24332 296.24332 296.24332\n",
      " 296.24332 296.24332 296.24332 296.24332 296.24332 296.24332]\n",
      "34\n",
      "ohrthr55 - [296.07837 296.07837 296.07837 296.07837 296.07837 296.07837 296.07837\n",
      " 296.07837 296.07837 296.07837 296.07837 296.07837 296.07837 296.07837\n",
      " 296.07837 296.07837 296.07837 296.07837 296.07837 296.07837 296.07837\n",
      " 296.00317 296.00317 296.00317 296.00317 296.00317 296.00317 296.00317\n",
      " 296.00317 296.00317 296.00317 296.00317 296.00317 296.00317]\n",
      "34\n",
      "ohrthr56 - [295.99176 295.99176 295.99176 295.99176 295.99176 295.99176 295.99176\n",
      " 295.99176 295.99176 295.99176 295.99176 295.99176 295.99176 295.99176\n",
      " 295.99176 295.99176 295.99176 295.99176 295.99176 295.99176 295.99176\n",
      " 295.9431  295.9431  295.9431  295.9431  295.9431  295.9431  295.9431\n",
      " 295.9431  295.9431  295.9431  295.9431  295.9431  295.9431 ]\n",
      "34\n",
      "ohrthr57 - [296.4431  296.4431  296.4431  296.4431  296.4431  296.4431  296.4431\n",
      " 296.4431  296.4431  296.4431  296.4431  296.4431  296.4431  296.4431\n",
      " 296.4431  296.4431  296.4431  296.4431  296.4431  296.4431  296.4431\n",
      " 296.42343 296.42343 296.42343 296.42343 296.42343 296.42343 296.42343\n",
      " 296.42343 296.42343 296.42343 296.42343 296.42343 296.42343]\n",
      "34\n",
      "ohrthr58 - [296.62436 296.62436 296.62436 296.62436 296.62436 296.62436 296.62436\n",
      " 296.62436 296.62436 296.62436 296.62436 296.62436 296.62436 296.62436\n",
      " 296.62436 296.62436 296.62436 296.62436 296.62436 296.62436 296.62436\n",
      " 296.60358 296.60358 296.60358 296.60358 296.60358 296.60358 296.60358\n",
      " 296.60358 296.60358 296.60358 296.60358 296.60358 296.60358]\n",
      "34\n",
      "ohrthr59 - [295.3427  295.22263 295.1626  295.3427  295.28268 295.1626  295.3427\n",
      " 295.3427  295.22263 295.22263 295.3427  295.22263 295.22263 295.3427\n",
      " 295.28268 295.1626  295.28268 295.4628  295.40274 295.28268 295.4628\n",
      " 295.3427  295.3427  295.40274 295.3427  295.3427  295.40274 295.3427\n",
      " 295.4628  295.3427  295.3427  295.4628  295.3427  295.40274]\n"
     ]
    },
    {
     "name": "stdout",
     "output_type": "stream",
     "text": [
      "34\n",
      "ohrthr60 - [296.30338 296.30338 296.30338 296.30338 296.30338 296.30338 296.30338\n",
      " 296.30338 296.30338 296.30338 296.30338 296.30338 296.30338 296.30338\n",
      " 296.30338 296.30338 296.30338 296.30338 296.30338 296.30338 296.30338\n",
      " 296.30338 296.30338 296.30338 296.30338 296.30338 296.30338 296.30338\n",
      " 296.30338 296.30338 296.30338 296.30338 296.30338 296.30338]\n",
      "34\n",
      "ohrthr61 - [296.24332 296.24332 296.24332 296.24332 296.24332 296.24332 296.24332\n",
      " 296.24332 296.24332 296.24332 296.24332 296.24332 296.24332 296.24332\n",
      " 296.24332 296.24332 296.24332 296.24332 296.24332 296.24332 296.24332\n",
      " 296.24332 296.24332 296.24332 296.24332 296.24332 296.24332 296.24332\n",
      " 296.24332 296.24332 296.24332 296.24332 296.24332 296.24332]\n",
      "34\n",
      "ohrthr62 - [295.76382 295.76382 295.76382 295.76382 295.76382 295.76382 295.76382\n",
      " 295.76382 295.76382 295.76382 295.76382 295.76382 295.76382 295.76382\n",
      " 295.76382 295.76382 295.76382 295.76382 295.76382 295.76382 295.76382\n",
      " 295.6429  295.6429  295.6429  295.6429  295.6429  295.6429  295.6429\n",
      " 295.6429  295.6429  295.6429  295.6429  295.6429  295.6429 ]\n",
      "34\n",
      "ohrthr63 - [295.28268 295.28268 295.28268 295.28268 295.28268 295.28268 295.28268\n",
      " 295.28268 295.28268 295.28268 295.28268 295.28268 295.28268 295.28268\n",
      " 295.28268 295.28268 295.28268 295.28268 295.28268 295.28268 295.28268\n",
      " 295.28268 295.28268 295.28268 295.28268 295.28268 295.28268 295.28268\n",
      " 295.28268 295.28268 295.28268 295.28268 295.28268 295.28268]\n",
      "34\n",
      "ohrthr64 - [726. 726. 726. 726. 726. 726. 726. 726. 726. 726. 726. 726. 726. 726.\n",
      " 726. 726. 726. 726. 726. 726. 726. 726. 726. 726. 726. 726. 726. 726.\n",
      " 726. 726. 726. 726. 726. 726.]\n"
     ]
    }
   ],
   "source": [
    "ohrthr = [empty]\n",
    "oobthr = [empty]\n",
    "\n",
    "print(f\"{ohrthr}\")\n",
    "#\n",
    "#--- fill them up\n",
    "#\n",
    "for k in range(1, 65):\n",
    "    if k < 10:\n",
    "        msid = 'ohrthr0' + str(k)\n",
    "    else:\n",
    "        msid = 'ohrthr'  + str(k)\n",
    "    try:\n",
    "        out   = fetch.MSID(msid, start, stop)\n",
    "        data  = out.vals\n",
    "        print(len(data))\n",
    "        print(f\"{msid} - {data}\")\n",
    "        otime = out.times\n",
    "#\n",
    "#--- since 4rt arrays are 36 time dense, match the ohrthr and oobtrhr \n",
    "#--- by filling the gaps between\n",
    "#\n",
    "        adata = fill_gaps(ttime, otime, data)\n",
    "\n",
    "        ohrthr.append(adata)\n",
    "    except:\n",
    "        ohrthr.append(empty)"
   ]
  },
  {
   "cell_type": "markdown",
   "id": "3efdd459",
   "metadata": {},
   "source": [
    "Therefore, we get a list of data, indexed by the OHRTHR number, in which the zeroth index is flled with dummy zeroes. We then compute various temeprature averages using this data set."
   ]
  },
  {
   "cell_type": "code",
   "execution_count": 19,
   "id": "c73f87e5",
   "metadata": {},
   "outputs": [],
   "source": [
    "#\n",
    "#--- now compute each quantity for the given time period\n",
    "#\n",
    "hrmaavg         = []\n",
    "#\n",
    "#--- save time stamp separately for each data   \n",
    "#\n",
    "t_hrmaavg       = []\n",
    "\n",
    "for k in range(0, tlen):\n",
    "    out = compute_hrmaavg(ohrthr, k )\n",
    "    if out != 'na':\n",
    "        hrmaavg.append(out)\n",
    "        t_hrmaavg.append(tlist[k])"
   ]
  },
  {
   "cell_type": "code",
   "execution_count": 20,
   "id": "5ebc54aa",
   "metadata": {},
   "outputs": [
    {
     "name": "stdout",
     "output_type": "stream",
     "text": [
      "TIME: [829222935.2749603, 829222968.0749624, 829223000.8749646, 829223033.6749667, 829223066.4749688, 829223099.274971, 829223132.0749731, 829223164.8749752, 829223197.6749773, 829223230.4749795, 829223263.2749816, 829223296.0749837, 829223328.8749858, 829223361.674988, 829223394.4749901, 829223427.2749922, 829223460.0749943, 829223492.8749965, 829223525.6749986, 829223558.4750007, 829223591.2750028, 829223624.075005, 829223656.8750072, 829223689.6750093, 829223722.4750113, 829223755.2750136, 829223788.0750157, 829223820.8750178, 829223853.67502, 829223886.4750221, 829223919.2750242, 829223952.0750263, 829223984.8750285, 829224017.6750306]\n",
      "\n",
      "VALUE: [308.82636487806167, 308.82384594066724, 308.82416843723604, 308.85560319230365, 308.8530850797086, 308.84587880727406, 308.8578293259079, 308.85624488624364, 308.84965143976984, 308.8468339249894, 308.8515435296136, 308.84745417414484, 308.8798432221284, 308.88645151499156, 308.8823547363281, 308.87451419314823, 303.428448651288, 303.4498662175359, 303.456357388883, 303.44499825142526, 303.4518176929371, 303.4324291332348, 303.41944761533995, 303.4259387866871, 303.42756199192354, 303.42431558145057, 303.4259396114865, 303.42593796188766, 303.4259387866871, 303.42756116712417, 303.42918354756125, 303.43567554370776, 303.43567389410896, 303.4324291332348]\n"
     ]
    },
    {
     "data": {
      "text/plain": [
       "(((matplotlib.dates.MinuteLocator,\n",
       "   {'byminute': [0, 4, 8, 12, 16, 20, 24, 28, 32, 36, 40, 44, 48, 52, 56]},\n",
       "   '%j:%H:%M',\n",
       "   matplotlib.dates.MinuteLocator,\n",
       "   {}),),\n",
       " <Figure size 640x480 with 1 Axes>,\n",
       " <Axes: >)"
      ]
     },
     "execution_count": 20,
     "metadata": {},
     "output_type": "execute_result"
    },
    {
     "data": {
      "image/png": "[encoded data removed]",
      "text/plain": [
       "<Figure size 640x480 with 1 Axes>"
      ]
     },
     "metadata": {},
     "output_type": "display_data"
    }
   ],
   "source": [
    "print(f\"TIME: {t_hrmaavg}\")\n",
    "print()\n",
    "print(f\"VALUE: {hrmaavg}\")\n",
    "Ska.Matplotlib.plot_cxctime(t_hrmaavg, hrmaavg)"
   ]
  },
  {
   "cell_type": "markdown",
   "id": "e8768225",
   "metadata": {},
   "source": [
    "Because we incorrectly use the invalid OHRTHR28 msid which has a large discontinuity at this time point, our calculated average carried that discontinuity over as well. If we were to repeat the process used in the compute_hrmaavg function above, but use the OBC selection of msid, we obtain..."
   ]
  },
  {
   "cell_type": "code",
   "execution_count": 21,
   "id": "209b327c",
   "metadata": {},
   "outputs": [],
   "source": [
    "OBC_hrmaavg = []\n",
    "OBC_t_hrmaavg = []\n",
    "for k in range(0, tlen):\n",
    "    #out = compute_hrmaavg(ohrthr, k )\n",
    "    out  = take_sum(OBC_sel, ohrthr, k, achk=1)\n",
    "    if out != 'na':\n",
    "        OBC_hrmaavg.append(out)\n",
    "        OBC_t_hrmaavg.append(tlist[k])"
   ]
  },
  {
   "cell_type": "code",
   "execution_count": 22,
   "id": "d529a764",
   "metadata": {},
   "outputs": [
    {
     "name": "stdout",
     "output_type": "stream",
     "text": [
      "TIME: [829222935.2749603, 829222968.0749624, 829223000.8749646, 829223033.6749667, 829223066.4749688, 829223099.274971, 829223132.0749731, 829223164.8749752, 829223197.6749773, 829223230.4749795, 829223263.2749816, 829223296.0749837, 829223328.8749858, 829223361.674988, 829223394.4749901, 829223427.2749922, 829223460.0749943, 829223492.8749965, 829223525.6749986, 829223558.4750007, 829223591.2750028, 829223624.075005, 829223656.8750072, 829223689.6750093, 829223722.4750113, 829223755.2750136, 829223788.0750157, 829223820.8750178, 829223853.67502, 829223886.4750221, 829223919.2750242, 829223952.0750263, 829223984.8750285, 829224017.6750306]\n",
      "\n",
      "VALUE: [296.29376390245227, 296.29117499457465, 296.29150644938153, 296.2960366143121, 296.29344855414496, 296.28604210747613, 296.29832458496094, 296.29669613308374, 296.28991953531903, 296.28702375623914, 296.291864183214, 296.2876612345378, 296.2931722005208, 296.29996405707465, 296.2957534790039, 296.2876951429579, 296.24590555826825, 296.26791805691187, 296.2745895385742, 296.2629148695204, 296.26992373996313, 296.24999660915796, 296.2366544935438, 296.2433259752062, 296.244994269477, 296.2416576809353, 296.2433268229167, 296.24332512749567, 296.2433259752062, 296.2449934217665, 296.24666086832684, 296.25333319769965, 296.2533315022786, 296.24999660915796]\n"
     ]
    },
    {
     "data": {
      "image/png": "[encoded data removed]",
      "text/plain": [
       "<Figure size 640x480 with 1 Axes>"
      ]
     },
     "metadata": {},
     "output_type": "display_data"
    }
   ],
   "source": [
    "print(f\"TIME: {OBC_t_hrmaavg}\")\n",
    "print()\n",
    "print(f\"VALUE: {OBC_hrmaavg}\")\n",
    "ticklocs, fig, ax = Ska.Matplotlib.plot_cxctime(OBC_t_hrmaavg, OBC_hrmaavg)\n",
    "Ska.Matplotlib.set_min_axis_range(ax,0.5)"
   ]
  },
  {
   "cell_type": "markdown",
   "id": "98af0e2c",
   "metadata": {},
   "source": [
    "Once the correct selection is taken, the transition between narrow and wide versions of the OHRTHR heaters, our plot becomes continuous as expected."
   ]
  },
  {
   "cell_type": "code",
   "execution_count": null,
   "id": "92b0da52",
   "metadata": {},
   "outputs": [],
   "source": []
  }
 ],
 "metadata": {
  "kernelspec": {
   "display_name": "Python 3 (ipykernel)",
   "language": "python",
   "name": "python3"
  },
  "language_info": {
   "codemirror_mode": {
    "name": "ipython",
    "version": 3
   },
   "file_extension": ".py",
   "mimetype": "text/x-python",
   "name": "python",
   "nbconvert_exporter": "python",
   "pygments_lexer": "ipython3",
   "version": "3.11.8"
  }
 },
 "nbformat": 4,
 "nbformat_minor": 5
}
