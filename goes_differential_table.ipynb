{
 "cells": [
  {
   "cell_type": "code",
   "execution_count": 1,
   "id": "207e9463",
   "metadata": {},
   "outputs": [],
   "source": [
    "import os\n",
    "import sys\n",
    "import importlib\n",
    "import json\n",
    "from astropy.table import Table, join"
   ]
  },
  {
   "cell_type": "code",
   "execution_count": 2,
   "id": "01541a75",
   "metadata": {},
   "outputs": [],
   "source": [
    "with open('differential-protons-7-day.json') as f:\n",
    "    table_7_day = Table(json.load(f))"
   ]
  },
  {
   "cell_type": "code",
   "execution_count": 3,
   "id": "40544247",
   "metadata": {},
   "outputs": [],
   "source": [
    "with open('differential-protons-3-day.json') as f:\n",
    "    table_3_day = Table(json.load(f))"
   ]
  },
  {
   "cell_type": "code",
   "execution_count": 4,
   "id": "a59dd134",
   "metadata": {},
   "outputs": [],
   "source": [
    "channels = list(set(table_7_day['channel'].data))\n",
    "channels.sort()"
   ]
  },
  {
   "cell_type": "code",
   "execution_count": 5,
   "id": "3a16278e",
   "metadata": {},
   "outputs": [
    {
     "data": {
      "text/plain": [
       "'P1'"
      ]
     },
     "execution_count": 5,
     "metadata": {},
     "output_type": "execute_result"
    }
   ],
   "source": [
    "channels.pop(0)"
   ]
  },
  {
   "cell_type": "code",
   "execution_count": 6,
   "id": "c32db037",
   "metadata": {},
   "outputs": [
    {
     "data": {
      "text/plain": [
       "['P10', 'P2A', 'P2B', 'P3', 'P4', 'P5', 'P6', 'P7', 'P8A', 'P8B', 'P8C', 'P9']"
      ]
     },
     "execution_count": 6,
     "metadata": {},
     "output_type": "execute_result"
    }
   ],
   "source": [
    "channels"
   ]
  },
  {
   "cell_type": "code",
   "execution_count": 7,
   "id": "26a9c28c",
   "metadata": {},
   "outputs": [],
   "source": [
    "channels = ['P2A', 'P2B', 'P3', 'P4', 'P5', 'P6', 'P7', 'P8A', 'P8B', 'P8C', 'P9', 'P10']"
   ]
  },
  {
   "cell_type": "code",
   "execution_count": 8,
   "id": "58b7dbdc",
   "metadata": {},
   "outputs": [],
   "source": [
    "#Initialization of table using \n",
    "GOES_TABLE_7 = table_7_day[table_7_day['channel'] == 'P1']['time_tag','flux']\n",
    "GOES_TABLE_7.rename_column('flux','P1')"
   ]
  },
  {
   "cell_type": "code",
   "execution_count": 9,
   "id": "15c7ae0b",
   "metadata": {},
   "outputs": [
    {
     "data": {
      "text/html": [
       "<div><i>Table length=2015</i>\n",
       "<table id=\"table139820797519184\" class=\"table-striped table-bordered table-condensed\">\n",
       "<thead><tr><th>time_tag</th><th>P1</th></tr></thead>\n",
       "<thead><tr><th>str20</th><th>float64</th></tr></thead>\n",
       "<tr><td>2024-04-10T15:05:00Z</td><td>0.00040081364568322897</td></tr>\n",
       "<tr><td>2024-04-10T15:10:00Z</td><td>0.00040096923476085067</td></tr>\n",
       "<tr><td>2024-04-10T15:15:00Z</td><td>0.00040107668610289693</td></tr>\n",
       "<tr><td>2024-04-10T15:20:00Z</td><td>0.000656931078992784</td></tr>\n",
       "<tr><td>2024-04-10T15:25:00Z</td><td>0.0008032204932533205</td></tr>\n",
       "<tr><td>2024-04-10T15:30:00Z</td><td>0.0005113448714837432</td></tr>\n",
       "<tr><td>2024-04-10T15:35:00Z</td><td>0.0008405529079027474</td></tr>\n",
       "<tr><td>2024-04-10T15:40:00Z</td><td>0.0008776637259870768</td></tr>\n",
       "<tr><td>2024-04-10T15:45:00Z</td><td>0.0012441743165254593</td></tr>\n",
       "<tr><td>2024-04-10T15:50:00Z</td><td>0.0009519768063910306</td></tr>\n",
       "<tr><td>2024-04-10T15:55:00Z</td><td>0.0005861491663381457</td></tr>\n",
       "<tr><td>2024-04-10T16:00:00Z</td><td>0.0012837087269872427</td></tr>\n",
       "<tr><td>2024-04-10T16:05:00Z</td><td>0.0015403644647449255</td></tr>\n",
       "<tr><td>2024-04-10T16:10:00Z</td><td>0.0025315445382148027</td></tr>\n",
       "<tr><td>2024-04-10T16:15:00Z</td><td>0.002237817272543907</td></tr>\n",
       "<tr><td>2024-04-10T16:20:00Z</td><td>0.0030098767019808292</td></tr>\n",
       "<tr><td>...</td><td>...</td></tr>\n",
       "<tr><td>2024-04-17T13:35:00Z</td><td>0.005492053460329771</td></tr>\n",
       "<tr><td>2024-04-17T13:40:00Z</td><td>0.004335962701588869</td></tr>\n",
       "<tr><td>2024-04-17T13:45:00Z</td><td>0.004300225526094437</td></tr>\n",
       "<tr><td>2024-04-17T13:50:00Z</td><td>0.005384750664234161</td></tr>\n",
       "<tr><td>2024-04-17T13:55:00Z</td><td>0.004264706280082464</td></tr>\n",
       "<tr><td>2024-04-17T14:00:00Z</td><td>0.004120136145502329</td></tr>\n",
       "<tr><td>2024-04-17T14:05:00Z</td><td>0.003650152124464512</td></tr>\n",
       "<tr><td>2024-04-17T14:10:00Z</td><td>0.00361416838131845</td></tr>\n",
       "<tr><td>2024-04-17T14:15:00Z</td><td>0.003794971853494644</td></tr>\n",
       "<tr><td>2024-04-17T14:20:00Z</td><td>0.0032525830902159214</td></tr>\n",
       "<tr><td>2024-04-17T14:25:00Z</td><td>0.0027106981724500656</td></tr>\n",
       "<tr><td>2024-04-17T14:30:00Z</td><td>0.0033617105800658464</td></tr>\n",
       "<tr><td>2024-04-17T14:35:00Z</td><td>0.003325818572193384</td></tr>\n",
       "<tr><td>2024-04-17T14:40:00Z</td><td>0.002747500315308571</td></tr>\n",
       "<tr><td>2024-04-17T14:45:00Z</td><td>0.0028199658263474703</td></tr>\n",
       "<tr><td>2024-04-17T14:50:00Z</td><td>0.0022416417486965656</td></tr>\n",
       "<tr><td>2024-04-17T14:55:00Z</td><td>0.0023865182884037495</td></tr>\n",
       "</table></div>"
      ],
      "text/plain": [
       "<Table length=2015>\n",
       "      time_tag                 P1          \n",
       "       str20                float64        \n",
       "-------------------- ----------------------\n",
       "2024-04-10T15:05:00Z 0.00040081364568322897\n",
       "2024-04-10T15:10:00Z 0.00040096923476085067\n",
       "2024-04-10T15:15:00Z 0.00040107668610289693\n",
       "2024-04-10T15:20:00Z   0.000656931078992784\n",
       "2024-04-10T15:25:00Z  0.0008032204932533205\n",
       "2024-04-10T15:30:00Z  0.0005113448714837432\n",
       "2024-04-10T15:35:00Z  0.0008405529079027474\n",
       "2024-04-10T15:40:00Z  0.0008776637259870768\n",
       "2024-04-10T15:45:00Z  0.0012441743165254593\n",
       "2024-04-10T15:50:00Z  0.0009519768063910306\n",
       "2024-04-10T15:55:00Z  0.0005861491663381457\n",
       "2024-04-10T16:00:00Z  0.0012837087269872427\n",
       "2024-04-10T16:05:00Z  0.0015403644647449255\n",
       "2024-04-10T16:10:00Z  0.0025315445382148027\n",
       "2024-04-10T16:15:00Z   0.002237817272543907\n",
       "2024-04-10T16:20:00Z  0.0030098767019808292\n",
       "                 ...                    ...\n",
       "2024-04-17T13:35:00Z   0.005492053460329771\n",
       "2024-04-17T13:40:00Z   0.004335962701588869\n",
       "2024-04-17T13:45:00Z   0.004300225526094437\n",
       "2024-04-17T13:50:00Z   0.005384750664234161\n",
       "2024-04-17T13:55:00Z   0.004264706280082464\n",
       "2024-04-17T14:00:00Z   0.004120136145502329\n",
       "2024-04-17T14:05:00Z   0.003650152124464512\n",
       "2024-04-17T14:10:00Z    0.00361416838131845\n",
       "2024-04-17T14:15:00Z   0.003794971853494644\n",
       "2024-04-17T14:20:00Z  0.0032525830902159214\n",
       "2024-04-17T14:25:00Z  0.0027106981724500656\n",
       "2024-04-17T14:30:00Z  0.0033617105800658464\n",
       "2024-04-17T14:35:00Z   0.003325818572193384\n",
       "2024-04-17T14:40:00Z   0.002747500315308571\n",
       "2024-04-17T14:45:00Z  0.0028199658263474703\n",
       "2024-04-17T14:50:00Z  0.0022416417486965656\n",
       "2024-04-17T14:55:00Z  0.0023865182884037495"
      ]
     },
     "execution_count": 9,
     "metadata": {},
     "output_type": "execute_result"
    }
   ],
   "source": [
    "GOES_TABLE_7"
   ]
  },
  {
   "cell_type": "code",
   "execution_count": 10,
   "id": "6951e35a",
   "metadata": {},
   "outputs": [],
   "source": [
    "#Iterate over table to structure data cleanly\n",
    "for chan in channels:\n",
    "    subtable = table_7_day[table_7_day['channel'] == chan]['time_tag','flux']\n",
    "    subtable.rename_column('flux', chan)\n",
    "    GOES_TABLE_7 = join(GOES_TABLE_7, subtable, keys='time_tag', join_type = 'outer')"
   ]
  },
  {
   "cell_type": "code",
   "execution_count": 24,
   "id": "1909195a",
   "metadata": {},
   "outputs": [
    {
     "data": {
      "text/html": [
       "<div><i>Table length=1</i>\n",
       "<table id=\"table139820047302736\" class=\"table-striped table-bordered table-condensed\">\n",
       "<thead><tr><th>time_tag</th><th>P1</th><th>P2A</th><th>P2B</th><th>P3</th><th>P4</th><th>P5</th><th>P6</th><th>P7</th><th>P8A</th><th>P8B</th><th>P8C</th><th>P9</th><th>P10</th></tr></thead>\n",
       "<thead><tr><th>str20</th><th>float64</th><th>float64</th><th>float64</th><th>float64</th><th>float64</th><th>float64</th><th>float64</th><th>float64</th><th>float64</th><th>float64</th><th>float64</th><th>float64</th><th>float64</th></tr></thead>\n",
       "<tr><td>2024-04-15T21:20:00Z</td><td>0.06745104491710663</td><td>0.007990380749106407</td><td>0.0026516751386225224</td><td>0.00039434261270798743</td><td>3.378515611984767e-05</td><td>--</td><td>1.3007991128688445e-06</td><td>4.4280764655013627e-07</td><td>2.1671687022717379e-07</td><td>7.635025554009189e-07</td><td>0.0</td><td>1.7644596539412305e-07</td><td>1.5812655362879013e-07</td></tr>\n",
       "</table></div>"
      ],
      "text/plain": [
       "<Table length=1>\n",
       "      time_tag                P1                 P2A                   P2B          ...          P8B            P8C             P9                    P10          \n",
       "       str20               float64             float64               float64        ...        float64        float64        float64                float64        \n",
       "-------------------- ------------------- -------------------- --------------------- ... --------------------- ------- ---------------------- ----------------------\n",
       "2024-04-15T21:20:00Z 0.06745104491710663 0.007990380749106407 0.0026516751386225224 ... 7.635025554009189e-07     0.0 1.7644596539412305e-07 1.5812655362879013e-07"
      ]
     },
     "execution_count": 24,
     "metadata": {},
     "output_type": "execute_result"
    }
   ],
   "source": [
    "GOES_TABLE_7[GOES_TABLE_7['time_tag'] == '2024-04-15T21:20:00Z']"
   ]
  },
  {
   "cell_type": "code",
   "execution_count": 25,
   "id": "dc6a4d7d",
   "metadata": {},
   "outputs": [],
   "source": [
    "#Initialization of table using \n",
    "GOES_TABLE_3 = table_3_day[table_3_day['channel'] == 'P1']['time_tag','flux']\n",
    "GOES_TABLE_3.rename_column('flux','P1')\n",
    "#Iterate over table to structure data cleanly\n",
    "for chan in channels:\n",
    "    subtable = table_3_day[table_3_day['channel'] == chan]['time_tag','flux']\n",
    "    subtable.rename_column('flux', chan)\n",
    "    GOES_TABLE_3 = join(GOES_TABLE_3, subtable, keys='time_tag', join_type = 'outer')"
   ]
  },
  {
   "cell_type": "code",
   "execution_count": 26,
   "id": "ada0bdb7",
   "metadata": {},
   "outputs": [
    {
     "data": {
      "text/html": [
       "<div><i>Table length=1</i>\n",
       "<table id=\"table139820048928336\" class=\"table-striped table-bordered table-condensed\">\n",
       "<thead><tr><th>time_tag</th><th>P1</th><th>P2A</th><th>P2B</th><th>P3</th><th>P4</th><th>P5</th><th>P6</th><th>P7</th><th>P8A</th><th>P8B</th><th>P8C</th><th>P9</th><th>P10</th></tr></thead>\n",
       "<thead><tr><th>str20</th><th>float64</th><th>float64</th><th>float64</th><th>float64</th><th>float64</th><th>float64</th><th>float64</th><th>float64</th><th>float64</th><th>float64</th><th>float64</th><th>float64</th><th>float64</th></tr></thead>\n",
       "<tr><td>2024-04-15T21:20:00Z</td><td>0.06745104491710663</td><td>0.007990380749106407</td><td>0.0026516751386225224</td><td>0.00039434261270798743</td><td>3.378515611984767e-05</td><td>--</td><td>1.3007991128688445e-06</td><td>4.4280764655013627e-07</td><td>2.1671687022717379e-07</td><td>7.635025554009189e-07</td><td>0.0</td><td>1.7644596539412305e-07</td><td>1.5812655362879013e-07</td></tr>\n",
       "</table></div>"
      ],
      "text/plain": [
       "<Table length=1>\n",
       "      time_tag                P1                 P2A                   P2B          ...          P8B            P8C             P9                    P10          \n",
       "       str20               float64             float64               float64        ...        float64        float64        float64                float64        \n",
       "-------------------- ------------------- -------------------- --------------------- ... --------------------- ------- ---------------------- ----------------------\n",
       "2024-04-15T21:20:00Z 0.06745104491710663 0.007990380749106407 0.0026516751386225224 ... 7.635025554009189e-07     0.0 1.7644596539412305e-07 1.5812655362879013e-07"
      ]
     },
     "execution_count": 26,
     "metadata": {},
     "output_type": "execute_result"
    }
   ],
   "source": [
    "GOES_TABLE_3[GOES_TABLE_3['time_tag'] == '2024-04-15T21:20:00Z']"
   ]
  },
  {
   "cell_type": "code",
   "execution_count": null,
   "id": "43299825",
   "metadata": {},
   "outputs": [],
   "source": []
  }
 ],
 "metadata": {
  "kernelspec": {
   "display_name": "Python 3 (ipykernel)",
   "language": "python",
   "name": "python3"
  },
  "language_info": {
   "codemirror_mode": {
    "name": "ipython",
    "version": 3
   },
   "file_extension": ".py",
   "mimetype": "text/x-python",
   "name": "python",
   "nbconvert_exporter": "python",
   "pygments_lexer": "ipython3",
   "version": "3.11.8"
  }
 },
 "nbformat": 4,
 "nbformat_minor": 5
}
